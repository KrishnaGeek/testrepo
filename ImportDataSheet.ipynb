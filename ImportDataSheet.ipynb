{
    "cells": [
        {
            "metadata": {},
            "cell_type": "markdown",
            "source": "# Here I try to import a sample file (xls) and it works!"
        },
        {
            "metadata": {},
            "cell_type": "code",
            "source": "\nimport os, types\nimport pandas as pd\nfrom botocore.client import Config\nimport ibm_boto3\n\ndef __iter__(self): return 0\n\n# @hidden_cell\n# The following code accesses a file in your IBM Cloud Object Storage. It includes your credentials.\n# You might want to remove those credentials before you share the notebook.\nclient_56afb44dd46046239c8a1f00bc3e6788 = ibm_boto3.client(service_name='s3',\n    ibm_api_key_id='xxxxxxxxxxxxxxxxxxxxxxxxxxxxxxxxxxxxxxxxxxxx',\n    ibm_auth_endpoint=\"https://iam.cloud.ibm.com/oidc/token\",\n    config=Config(signature_version='oauth'),\n    endpoint_url='https://s3.private.eu.cloud-object-storage.appdomain.cloud')\n\nbody = client_56afb44dd46046239c8a1f00bc3e6788.get_object(Bucket='test-donotdelete-pr-yxpa9xjzhttei9',Key='SampleXLSFile_38kb.xls')['Body']\n\ndf_data_0 = pd.read_excel(body.read())\ndf_data_0.head()\n",
            "execution_count": 15,
            "outputs": [
                {
                    "output_type": "execute_result",
                    "execution_count": 15,
                    "data": {
                        "text/plain": "   1   Eldon Base for stackable storage shelf, platinum Muhammed MacIntyre  \\\n0  2  1.7 Cubic Foot Compact \"Cube\" Office Refrigera...       Barry French   \n1  3   Cardinal Slant-D\u00ae Ring Binder, Heavy Gauge Vinyl       Barry French   \n2  4                                               R380      Clay Rozendal   \n3  5                           Holmes HEPA Air Purifier     Carlos Soltero   \n4  6  G.E. Longer-Life Indoor Recessed Floodlight Bulbs     Carlos Soltero   \n\n     3    -213.25   38.94     35  Nunavut          Storage & Organization  \\\n0  293   457.8100  208.16  68.02  Nunavut                      Appliances   \n1  293    46.7075    8.69   2.99  Nunavut  Binders and Binder Accessories   \n2  483  1198.9710  195.99   3.99  Nunavut    Telephones and Communication   \n3  515    30.9400   21.78   5.94  Nunavut                      Appliances   \n4  515     4.4300    6.64   4.95  Nunavut              Office Furnishings   \n\n    0.8  \n0  0.58  \n1  0.39  \n2  0.58  \n3  0.50  \n4  0.37  ",
                        "text/html": "<div>\n<style scoped>\n    .dataframe tbody tr th:only-of-type {\n        vertical-align: middle;\n    }\n\n    .dataframe tbody tr th {\n        vertical-align: top;\n    }\n\n    .dataframe thead th {\n        text-align: right;\n    }\n</style>\n<table border=\"1\" class=\"dataframe\">\n  <thead>\n    <tr style=\"text-align: right;\">\n      <th></th>\n      <th>1</th>\n      <th>Eldon Base for stackable storage shelf, platinum</th>\n      <th>Muhammed MacIntyre</th>\n      <th>3</th>\n      <th>-213.25</th>\n      <th>38.94</th>\n      <th>35</th>\n      <th>Nunavut</th>\n      <th>Storage &amp; Organization</th>\n      <th>0.8</th>\n    </tr>\n  </thead>\n  <tbody>\n    <tr>\n      <th>0</th>\n      <td>2</td>\n      <td>1.7 Cubic Foot Compact \"Cube\" Office Refrigera...</td>\n      <td>Barry French</td>\n      <td>293</td>\n      <td>457.8100</td>\n      <td>208.16</td>\n      <td>68.02</td>\n      <td>Nunavut</td>\n      <td>Appliances</td>\n      <td>0.58</td>\n    </tr>\n    <tr>\n      <th>1</th>\n      <td>3</td>\n      <td>Cardinal Slant-D\u00ae Ring Binder, Heavy Gauge Vinyl</td>\n      <td>Barry French</td>\n      <td>293</td>\n      <td>46.7075</td>\n      <td>8.69</td>\n      <td>2.99</td>\n      <td>Nunavut</td>\n      <td>Binders and Binder Accessories</td>\n      <td>0.39</td>\n    </tr>\n    <tr>\n      <th>2</th>\n      <td>4</td>\n      <td>R380</td>\n      <td>Clay Rozendal</td>\n      <td>483</td>\n      <td>1198.9710</td>\n      <td>195.99</td>\n      <td>3.99</td>\n      <td>Nunavut</td>\n      <td>Telephones and Communication</td>\n      <td>0.58</td>\n    </tr>\n    <tr>\n      <th>3</th>\n      <td>5</td>\n      <td>Holmes HEPA Air Purifier</td>\n      <td>Carlos Soltero</td>\n      <td>515</td>\n      <td>30.9400</td>\n      <td>21.78</td>\n      <td>5.94</td>\n      <td>Nunavut</td>\n      <td>Appliances</td>\n      <td>0.50</td>\n    </tr>\n    <tr>\n      <th>4</th>\n      <td>6</td>\n      <td>G.E. Longer-Life Indoor Recessed Floodlight Bulbs</td>\n      <td>Carlos Soltero</td>\n      <td>515</td>\n      <td>4.4300</td>\n      <td>6.64</td>\n      <td>4.95</td>\n      <td>Nunavut</td>\n      <td>Office Furnishings</td>\n      <td>0.37</td>\n    </tr>\n  </tbody>\n</table>\n</div>"
                    },
                    "metadata": {}
                }
            ]
        },
        {
            "metadata": {},
            "cell_type": "raw",
            "source": "ibm_api_key_id = 'isQFEacnqaeEPL05zK5fJ9WXMnwrHAN37yTTO5ZokJVE'"
        }
    ],
    "metadata": {
        "kernelspec": {
            "name": "python3",
            "display_name": "Python 3.8",
            "language": "python"
        },
        "language_info": {
            "name": "python",
            "version": "3.8.12",
            "mimetype": "text/x-python",
            "codemirror_mode": {
                "name": "ipython",
                "version": 3
            },
            "pygments_lexer": "ipython3",
            "nbconvert_exporter": "python",
            "file_extension": ".py"
        }
    },
    "nbformat": 4,
    "nbformat_minor": 1
}